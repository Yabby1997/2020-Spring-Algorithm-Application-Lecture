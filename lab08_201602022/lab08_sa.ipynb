{
  "nbformat": 4,
  "nbformat_minor": 0,
  "metadata": {
    "colab": {
      "name": "lab08_sa.ipynb",
      "provenance": [],
      "collapsed_sections": [],
      "toc_visible": true
    },
    "kernelspec": {
      "name": "python3",
      "display_name": "Python 3"
    },
    "accelerator": "GPU"
  },
  "cells": [
    {
      "cell_type": "code",
      "metadata": {
        "id": "X790ytt-dxdF",
        "colab_type": "code",
        "colab": {}
      },
      "source": [
        "import os\n",
        "from collections import defaultdict\n",
        "import numpy as np\n",
        "import pandas as pd\n",
        "import torch\n",
        "import torch.nn as nn\n",
        "from torch import optim\n",
        "import matplotlib.pyplot as plt\n",
        "from tqdm import tqdm, trange"
      ],
      "execution_count": 0,
      "outputs": []
    },
    {
      "cell_type": "code",
      "metadata": {
        "id": "x75EaEUNQg3E",
        "colab_type": "code",
        "colab": {}
      },
      "source": [
        "class RNN(nn.Module):\n",
        "\tdef __init__(self, input_size, embed_size, hidden_size, output_size, num_layers=1, bidirec=False, device='cuda'):\n",
        "\t\tsuper(RNN, self).__init__()\n",
        "\n",
        "\t\tself.hidden_size = hidden_size\n",
        "\t\tself.num_layers = num_layers\n",
        "\n",
        "\t\tif bidirec:\t\t\t\t\t\t\t\t#양방향인경우 어순이 바뀔 수 있는경우?\n",
        "\t\t\tself.num_directions = 2\n",
        "\t\telse:\n",
        "\t\t\tself.num_directions = 1\n",
        "\n",
        "\t\tself.device = device\n",
        "\n",
        "\t\tself.embed = nn.Embedding(input_size, embed_size, padding_idx=1)\n",
        "\t\tself.lstm = nn.LSTM(embed_size, hidden_size, num_layers, batch_first=True, bidirectional=bidirec)\n",
        "\t\tself.linear = nn.Linear(hidden_size * self.num_directions, output_size)\n",
        "\n",
        "\n",
        "\tdef init_hidden(self, batch_size):\t\t\t\t\t\t\t\t\t\t#초기화해줌\n",
        "\t\thidden = torch.zeros(self.num_layers * self.num_directions, batch_size, self.hidden_size).to(self.device)\n",
        "\t\tcell = torch.zeros(self.num_layers * self.num_directions, batch_size, self.hidden_size).to(self.device)\n",
        "\t\treturn hidden, cell\n",
        "\t\n",
        "\t\n",
        "\tdef forward(self, inputs):\n",
        "\t\tembed = self.embed(inputs)\t\t\t\t\t\t\t\t\t\t\t#embed된것\n",
        "\t\thidden, cell = self.init_hidden(inputs.size(0))\t\t\t\t\t\t#초기화\n",
        "\t\n",
        "\t\toutput, (hidden, cell) = self.lstm(embed, (hidden, cell))\n",
        "\n",
        "\t\thidden = hidden[-self.num_directions:]\n",
        "\t\thidden = torch.cat([h for h in hidden], 1)\n",
        "\t\toutput = self.linear(hidden)\n",
        "\n",
        "\t\treturn output\t\t\t\t\t\t\t\t\t\t\t\t\t\t#5차원 데이터로 one-hot encoding된 결과\n"
      ],
      "execution_count": 0,
      "outputs": []
    },
    {
      "cell_type": "code",
      "metadata": {
        "id": "O69Xac20QcQA",
        "colab_type": "code",
        "colab": {}
      },
      "source": [
        "def make_vocab(vocab_path, train=None):\n",
        "\tvocab = {}\n",
        "\tif os.path.isfile(vocab_path):\n",
        "\t\tfile = open(vocab_path, 'r', encoding='utf-8')\n",
        "\t\tfor line in file.readlines():\n",
        "\t\t\tline = line.rstrip()\n",
        "\t\t\tkey, value = line.split('\\t')\n",
        "\t\t\tvocab[key] = value\n",
        "\t\tfile.close()\n",
        "\telse:\n",
        "\t\tcount_dict = defaultdict(int)\t\t\t\t\t\t\t\t\t\t\t\t\t\t\t#0으로 초기\n",
        "\t\tfor index, data in tqdm(train.iterrows(), desc='make vocab', total=len(train)):\t\t\t#게이지 표시\n",
        "\t\t\tsentence = data['Phrase'].lower()\n",
        "\t\t\ttokens = sentence.split(' ')\n",
        "\t\t\tfor token in tokens:\n",
        "\t\t\t\tcount_dict[token] += 1\n",
        "\n",
        "\t\tfile = open(vocab_path, 'w', encoding='utf-8')\n",
        "\t\tfile.write('[UNK]\\t0\\n[PAD]\\t1\\n')\n",
        "\t\tvocab = {'[UNK]' : 0, '[PAD]' : 1}\n",
        "\t\tfor index, (token, count) in enumerate(sorted(count_dict.items(), reverse=True, key=lambda item: item[1])):\t\t\t\t#UNK랑 PAD때문에 + 2\n",
        "\t\t\tvocab[token] = index + 2\n",
        "\t\t\tfile.write(token + '\\t' + str(index + 2) + '\\n')\n",
        "\t\tfile.close()\n",
        "\n",
        "\treturn vocab\n",
        "\t\n",
        "\n",
        "def read_data(train, test, vocab, max_len):\n",
        "\tx_train = np.ones(shape=(len(train), max_len))\t\t\t\t\t\t\t\t\t\t\t\t#패딩토큰으로 초기화\n",
        "\tfor i, data in tqdm(enumerate(train['Phrase']), desc='make x_train data', total=len(train)):\n",
        "\t\tdata = data.lower()\n",
        "\t\ttokens = data.split(' ')\n",
        "\t\tfor j, token in enumerate(tokens):\n",
        "\t\t\tif j == max_len:\n",
        "\t\t\t\tbreak\n",
        "\t\t\tx_train[i][j] = vocab[token]\t\t\t\t\t\t\t\t\t\t\t\t\t\t#토큰에 따른 값을 넣어줌\n",
        "\t\n",
        "\tx_test = np.ones(shape=(len(test), max_len))\n",
        "\tfor i, data in tqdm(enumerate(test['Phrase']), desc='make x_test data', total=len(test)):\n",
        "\t\tdata = data.lower()\n",
        "\t\ttokens = data.split(' ')\n",
        "\t\tfor j, token in enumerate(tokens):\n",
        "\t\t\tif j == max_len:\n",
        "\t\t\t\tbreak\n",
        "\t\t\tif token not in vocab.keys():\t\t\t\t\t\t\t\t\t\t\t\t\t\t#vocab에 없는 토큰에 대한 처리 \n",
        "\t\t\t\tx_test[i][j] = 0\n",
        "\t\t\telse:\n",
        "\t\t\t\tx_test[i][j] = vocab[token]\n",
        "\n",
        "\ty_train = train['Sentiment'].to_numpy()\n",
        "\n",
        "\treturn x_train, y_train, x_test\n",
        "\n",
        "\n",
        "def train(x, y, max_len, embed_size, hidden_size, output_size, batch_size, epochs, lr, device, model=None):\n",
        "\tx = torch.from_numpy(x).long()\n",
        "\ty = torch.from_numpy(y).long()\n",
        "\tif model is None:\n",
        "\t\tmodel = RNN(max_len, embed_size, hidden_size, output_size, device=device)\n",
        "\tmodel.to(device)\t\t\t\t\t\t\t\t\t\t\t\t\t\t\t\t\t#device 명시\n",
        "\tmodel.train()\n",
        "\tloss_function = nn.CrossEntropyLoss()\n",
        "\toptimizer = optim.Adam(model.parameters(), lr=lr)\n",
        "\tdata_loader = torch.utils.data.DataLoader(list(zip(x, y)), batch_size, shuffle=True)\n",
        "\tloss_total = []\n",
        "\tacc_total = []\n",
        "\n",
        "\tfor epoch in trange(epochs):\n",
        "\t\tepoch_loss = 0\n",
        "\t\tepoch_acc = 0\n",
        "\t\tfor batch_data in data_loader:\n",
        "\t\t\tx_batch, y_batch = batch_data\n",
        "\t\t\tx_batch = x_batch.to(device)\t\t\t\t\t\t\t\t\t\t\t\t#device 명시. 맞춰줘야함\n",
        "\t\t\ty_batch = y_batch.to(device)\n",
        "\n",
        "\t\t\tpred = model(x_batch)\n",
        "\n",
        "\t\t\tloss = loss_function(pred, y_batch)\n",
        "\t\t\toptimizer.zero_grad()\n",
        "\t\t\tloss.backward()\n",
        "\n",
        "\t\t\toptimizer.step()\n",
        "\n",
        "\t\t\tepoch_loss += loss.item()\n",
        "\t\t\tepoch_acc += get_acc(pred, y_batch)\n",
        "\t\tepoch_loss /= len(data_loader)\n",
        "\t\tepoch_acc /= len(data_loader)\n",
        "\t\tloss_total.append(epoch_loss)\n",
        "\t\tacc_total.append(epoch_acc)\n",
        "\t\tprint('\\nEpoch [%d] Loss : %.3f\\t Acc : %.3f' % (epoch + 1, epoch_loss, epoch_acc))\n",
        "\n",
        "\ttorch.save(model, 'model.out')\n",
        "\n",
        "\treturn model, loss_total, acc_total\n",
        "\n",
        "\n",
        "def get_acc(pred, answer):\n",
        "\tcorrect = 0\n",
        "\tfor p, a in zip(pred, answer):\n",
        "\t\tpv, pi = p.max(0)\n",
        "\t\tif pi == a:\n",
        "\t\t\tcorrect += 1\n",
        "\t\n",
        "\treturn correct / len(pred)\n",
        "\n",
        "\n",
        "def test(model, x, batch_size, device):\n",
        "\tmodel.to(device)\n",
        "\tmodel.eval()\n",
        "\tx = torch.from_numpy(x).long()\n",
        "\tdata_loader = torch.utils.data.DataLoader(x, batch_size, shuffle=False)\n",
        "\n",
        "\tpredict = []\n",
        "\tfor batch_data in data_loader:\n",
        "\t\tbatch_data = batch_data.to(device)\n",
        "\t\tpred = model(batch_data)\n",
        "\t\tfor p in pred:\n",
        "\t\t\tpv, pi = p.max(0)\n",
        "\t\t\tpredict.append(pi.item())\n",
        "\n",
        "\treturn predict\n",
        "\n",
        "\n",
        "def draw_graph(data):\n",
        "\tplt.plot(data)\n",
        "\tplt.show()\n",
        "\n",
        "\n",
        "def save_submission(pred):\n",
        "\tdata = {\n",
        "\t\t'PhraseId' : np.arange(156061, 156061 + len(pred)),\n",
        "\t\t'Sentiment' : pred\n",
        "\t}\n",
        "\tdf = pd.DataFrame(data)\n",
        "\tdf.to_csv('data/my_submission.csv', mode='w', index=False)"
      ],
      "execution_count": 0,
      "outputs": []
    },
    {
      "cell_type": "code",
      "metadata": {
        "id": "ptUN-UBAQmwG",
        "colab_type": "code",
        "outputId": "59a17df2-97b7-4f41-9a4c-4cc83446c49a",
        "colab": {
          "base_uri": "https://localhost:8080/",
          "height": 925
        }
      },
      "source": [
        "if __name__ == '__main__':\n",
        "\ttrain_path = 'data/train.tsv'\n",
        "\ttest_path = 'data/test.tsv'\n",
        "\tvocab_path = 'data/vocab.txt'\n",
        "\n",
        "\ttrain_data = pd.read_csv(train_path, sep='\\t')\n",
        "\ttest_data = pd.read_csv(test_path, sep='\\t')\n",
        "\tvocab = make_vocab(vocab_path, train_data)\n",
        "\t#model = torch.load('model.out')\t\t\t\t\t\t\t#모델 불러오기\n",
        "\n",
        "\tdevice = torch.device('cuda:0')\t\t\t\t\t\t\t#0번째 GPU사용\n",
        "\n",
        "\tmax_len = 50\t\t\t\t\t\t\t\t\t\t\t#너무 길어지면 RNN이 잘 작동하지 않음\n",
        "\tinput_size = len(vocab)\n",
        "\tembed_size = 50\n",
        "\thidden_size = 100\n",
        "\toutput_size = 5\n",
        "\tbatch_size = 1024\n",
        "\tepochs = 10\n",
        "\tlr = 0.001\n",
        "\n",
        "\tx_train, y_train, x_test = read_data(train_data, test_data, vocab, max_len)\n",
        "\t\n",
        "\tmodel, loss_total, acc_total = train(x_train, y_train, input_size, embed_size, hidden_size, output_size, batch_size, epochs, lr, device)\n",
        "\tdraw_graph(loss_total)\n",
        "\tdraw_graph(acc_total)\n",
        "\tpredict = test(model, x_test, batch_size, device)\n",
        "\tsave_submission(predict)\n"
      ],
      "execution_count": 4,
      "outputs": [
        {
          "output_type": "stream",
          "text": [
            "make x_train data: 100%|██████████| 156060/156060 [00:00<00:00, 241451.55it/s]\n",
            "make x_test data: 100%|██████████| 66292/66292 [00:00<00:00, 211191.97it/s]\n",
            " 10%|█         | 1/10 [00:10<01:31, 10.20s/it]"
          ],
          "name": "stderr"
        },
        {
          "output_type": "stream",
          "text": [
            "\n",
            "Epoch [1] Loss : 1.282\t Acc : 0.504\n"
          ],
          "name": "stdout"
        },
        {
          "output_type": "stream",
          "text": [
            "\r 20%|██        | 2/10 [00:20<01:21, 10.19s/it]"
          ],
          "name": "stderr"
        },
        {
          "output_type": "stream",
          "text": [
            "\n",
            "Epoch [2] Loss : 1.178\t Acc : 0.523\n"
          ],
          "name": "stdout"
        },
        {
          "output_type": "stream",
          "text": [
            "\r 30%|███       | 3/10 [00:30<01:11, 10.20s/it]"
          ],
          "name": "stderr"
        },
        {
          "output_type": "stream",
          "text": [
            "\n",
            "Epoch [3] Loss : 1.117\t Acc : 0.548\n"
          ],
          "name": "stdout"
        },
        {
          "output_type": "stream",
          "text": [
            "\r 40%|████      | 4/10 [00:40<01:01, 10.22s/it]"
          ],
          "name": "stderr"
        },
        {
          "output_type": "stream",
          "text": [
            "\n",
            "Epoch [4] Loss : 1.064\t Acc : 0.567\n"
          ],
          "name": "stdout"
        },
        {
          "output_type": "stream",
          "text": [
            "\r 50%|█████     | 5/10 [00:51<00:51, 10.25s/it]"
          ],
          "name": "stderr"
        },
        {
          "output_type": "stream",
          "text": [
            "\n",
            "Epoch [5] Loss : 1.018\t Acc : 0.587\n"
          ],
          "name": "stdout"
        },
        {
          "output_type": "stream",
          "text": [
            "\r 60%|██████    | 6/10 [01:01<00:40, 10.23s/it]"
          ],
          "name": "stderr"
        },
        {
          "output_type": "stream",
          "text": [
            "\n",
            "Epoch [6] Loss : 0.980\t Acc : 0.604\n"
          ],
          "name": "stdout"
        },
        {
          "output_type": "stream",
          "text": [
            "\r 70%|███████   | 7/10 [01:11<00:30, 10.23s/it]"
          ],
          "name": "stderr"
        },
        {
          "output_type": "stream",
          "text": [
            "\n",
            "Epoch [7] Loss : 0.943\t Acc : 0.621\n"
          ],
          "name": "stdout"
        },
        {
          "output_type": "stream",
          "text": [
            "\r 80%|████████  | 8/10 [01:21<00:20, 10.22s/it]"
          ],
          "name": "stderr"
        },
        {
          "output_type": "stream",
          "text": [
            "\n",
            "Epoch [8] Loss : 0.917\t Acc : 0.635\n"
          ],
          "name": "stdout"
        },
        {
          "output_type": "stream",
          "text": [
            "\r 90%|█████████ | 9/10 [01:32<00:10, 10.22s/it]"
          ],
          "name": "stderr"
        },
        {
          "output_type": "stream",
          "text": [
            "\n",
            "Epoch [9] Loss : 0.891\t Acc : 0.649\n"
          ],
          "name": "stdout"
        },
        {
          "output_type": "stream",
          "text": [
            "100%|██████████| 10/10 [01:42<00:00, 10.22s/it]"
          ],
          "name": "stderr"
        },
        {
          "output_type": "stream",
          "text": [
            "\n",
            "Epoch [10] Loss : 0.867\t Acc : 0.660\n"
          ],
          "name": "stdout"
        },
        {
          "output_type": "stream",
          "text": [
            "\n",
            "/usr/local/lib/python3.6/dist-packages/torch/serialization.py:402: UserWarning: Couldn't retrieve source code for container of type RNN. It won't be checked for correctness upon loading.\n",
            "  \"type \" + obj.__name__ + \". It won't be checked \"\n"
          ],
          "name": "stderr"
        },
        {
          "output_type": "display_data",
          "data": {
            "image/png": "[encoded data removed]",
            "text/plain": [
              "<Figure size 432x288 with 1 Axes>"
            ]
          },
          "metadata": {
            "tags": [],
            "needs_background": "light"
          }
        },
        {
          "output_type": "display_data",
          "data": {
            "image/png": "[encoded data removed]",
            "text/plain": [
              "<Figure size 432x288 with 1 Axes>"
            ]
          },
          "metadata": {
            "tags": [],
            "needs_background": "light"
          }
        }
      ]
    }
  ]
}